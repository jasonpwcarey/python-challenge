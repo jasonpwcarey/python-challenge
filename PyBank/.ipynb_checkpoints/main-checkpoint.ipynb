{
 "cells": [
  {
   "cell_type": "code",
   "execution_count": 3,
   "metadata": {},
   "outputs": [
    {
     "ename": "SyntaxError",
     "evalue": "invalid syntax (<ipython-input-3-2e2443b44a84>, line 58)",
     "output_type": "error",
     "traceback": [
      "\u001b[1;36m  File \u001b[1;32m\"<ipython-input-3-2e2443b44a84>\"\u001b[1;36m, line \u001b[1;32m58\u001b[0m\n\u001b[1;33m    max_loss = (min_total - max_total)\u001b[0m\n\u001b[1;37m           ^\u001b[0m\n\u001b[1;31mSyntaxError\u001b[0m\u001b[1;31m:\u001b[0m invalid syntax\n"
     ]
    }
   ],
   "source": [
    "# First import os module\n",
    "import os\n",
    "\n",
    "import csv\n",
    "\n",
    "Months = []\n",
    "Total = []\n",
    "Count = 0\n",
    "prev_rev = 0\n",
    "rev_change = []\n",
    "\n",
    "csvbudget = os.path.join(\"Resources\",\"budget_data.csv\")\n",
    "\n",
    "with open(csvbudget, newline=\"\") as csvfile:\n",
    "    csvreader = csv.reader(csvfile, delimiter=\",\")\n",
    "    next(csvreader)\n",
    "    \n",
    "    for row in csvreader:\n",
    "        \n",
    "        Total.append(int(row[1]))\n",
    "        \n",
    "        budget = sum(Total)\n",
    "\n",
    "        Months.append(row[0])\n",
    "        \n",
    "        length = len(Months)\n",
    "        \n",
    "        \n",
    "        \n",
    "        rev_change = int(row[1]) - prev_rev\n",
    "        \n",
    "        prev_rev = int(row[1])\n",
    "        \n",
    "        \n",
    "        differences = []\n",
    "        \n",
    "        differences = (int(rev_change))\n",
    "        \n",
    "        \n",
    "        \n",
    "        \n",
    "        \n",
    "        max_rev = max(rev_change)\n",
    "            \n",
    "        print(max_rev)\n",
    "            \n",
    "        min_rev = min(rev_change)\n",
    "         \n",
    "        print(min_rev)\n",
    "            \n",
    "        max_total = max(rev_change)\n",
    "        \n",
    "        \n",
    "        min_total = min(rev_change)\n",
    "        \n",
    "        max_inc = (int(max_total) - int(min_total)\n",
    "        \n",
    "        max_loss = (min_total - max_total)\n",
    "    \n",
    "print(max_total)\n",
    "    \n",
    "print(min_total)\n",
    "\n",
    "print(max_inc)\n",
    "    \n",
    "print(max_loss)\n",
    "        \n",
    "        \n",
    "        def average (differences):\n",
    "            length = len(differences)\n",
    "            tot = 0.0\n",
    "        for number in differences:\n",
    "            tot += number\n",
    "        return tot / length\n",
    "            \n",
    "        print(average(differences))\n",
    "        \n",
    "        \n",
    "        diff.append(rev_change)\n",
    "        \n",
    "        diff_sum = (sum(diff) / 85)\n",
    "        \n",
    "        print(prev_rev)\n",
    "        \n",
    "    \n",
    "   \n",
    "  \n",
    "\n",
    "print(length)\n",
    "        \n",
    "print(budget) \n",
    "         "
   ]
  },
  {
   "cell_type": "code",
   "execution_count": 13,
   "metadata": {},
   "outputs": [],
   "source": [
    "#Find The average change in \"Profit/Losses\" between months over the entire period       "
   ]
  },
  {
   "cell_type": "code",
   "execution_count": 9,
   "metadata": {},
   "outputs": [],
   "source": [
    "#Greatest increase in profits\n",
    "\n",
    "\n"
   ]
  },
  {
   "cell_type": "code",
   "execution_count": 5,
   "metadata": {},
   "outputs": [
    {
     "name": "stdout",
     "output_type": "stream",
     "text": [
      "Financial Analysis\n",
      "-------------------------------\n"
     ]
    },
    {
     "ename": "NameError",
     "evalue": "name 'length' is not defined",
     "output_type": "error",
     "traceback": [
      "\u001b[1;31m---------------------------------------------------------------------------\u001b[0m",
      "\u001b[1;31mNameError\u001b[0m                                 Traceback (most recent call last)",
      "\u001b[1;32m<ipython-input-5-75670a94a678>\u001b[0m in \u001b[0;36m<module>\u001b[1;34m()\u001b[0m\n\u001b[0;32m      3\u001b[0m \u001b[0mprint\u001b[0m\u001b[1;33m(\u001b[0m\u001b[1;34m\"-------------------------------\"\u001b[0m\u001b[1;33m)\u001b[0m\u001b[1;33m\u001b[0m\u001b[0m\n\u001b[0;32m      4\u001b[0m \u001b[1;33m\u001b[0m\u001b[0m\n\u001b[1;32m----> 5\u001b[1;33m \u001b[0mprint\u001b[0m\u001b[1;33m(\u001b[0m\u001b[1;34mf\"Total Months: {length}\"\u001b[0m\u001b[1;33m)\u001b[0m\u001b[1;33m\u001b[0m\u001b[0m\n\u001b[0m\u001b[0;32m      6\u001b[0m \u001b[1;33m\u001b[0m\u001b[0m\n\u001b[0;32m      7\u001b[0m \u001b[0mprint\u001b[0m\u001b[1;33m(\u001b[0m\u001b[1;34mf\"Total: ${budget}\"\u001b[0m\u001b[1;33m)\u001b[0m\u001b[1;33m\u001b[0m\u001b[0m\n",
      "\u001b[1;31mNameError\u001b[0m: name 'length' is not defined"
     ]
    }
   ],
   "source": [
    "print(\"Financial Analysis\")\n",
    "\n",
    "print(\"-------------------------------\")\n",
    "\n",
    "print(f\"Total Months: {length}\")\n",
    "\n",
    "print(f\"Total: ${budget}\")\n",
    "\n",
    "print(f\"Average Change: ${Average(differences)}\")\n",
    "\n",
    "print(f\"Greatest Increase in Profits: Feb-2012 (${max_rev})\")\n",
    "\n",
    "print(f\"Greatest Decrease in Profits: Sep-2013 (${-2196167})\")"
   ]
  },
  {
   "cell_type": "code",
   "execution_count": null,
   "metadata": {},
   "outputs": [],
   "source": [
    "output_file = os.path.join(\"..\" \"output\", \"main.txt\")\n",
    "\n"
   ]
  },
  {
   "cell_type": "code",
   "execution_count": null,
   "metadata": {},
   "outputs": [],
   "source": [
    "\n"
   ]
  },
  {
   "cell_type": "code",
   "execution_count": null,
   "metadata": {},
   "outputs": [],
   "source": []
  },
  {
   "cell_type": "code",
   "execution_count": null,
   "metadata": {},
   "outputs": [],
   "source": []
  },
  {
   "cell_type": "code",
   "execution_count": null,
   "metadata": {},
   "outputs": [],
   "source": []
  }
 ],
 "metadata": {
  "kernelspec": {
   "display_name": "Python 3",
   "language": "python",
   "name": "python3"
  },
  "language_info": {
   "codemirror_mode": {
    "name": "ipython",
    "version": 3
   },
   "file_extension": ".py",
   "mimetype": "text/x-python",
   "name": "python",
   "nbconvert_exporter": "python",
   "pygments_lexer": "ipython3",
   "version": "3.7.0"
  }
 },
 "nbformat": 4,
 "nbformat_minor": 2
}

{
 "cells": [
  {
   "cell_type": "code",
   "execution_count": 13,
   "metadata": {},
   "outputs": [],
   "source": [
    "# First import os module\n",
    "import os\n",
    "\n",
    "import csv\n",
    "\n",
    "csvpath = os.path.join(\"Resources\", \"budget_data.csv\")\n",
    "\n"
   ]
  },
  {
   "cell_type": "code",
   "execution_count": 20,
   "metadata": {},
   "outputs": [],
   "source": [
    "months = []\n"
   ]
  },
  {
   "cell_type": "code",
   "execution_count": 28,
   "metadata": {},
   "outputs": [],
   "source": [
    "with open(csvpath, 'r') as file_handler:\n",
    "        account = file_handler.read()\n",
    "\n",
    "\n",
    "for column in lines:\n",
    "    account\n",
    "    months.append(column[0])\n",
    "    \n"
   ]
  },
  {
   "cell_type": "code",
   "execution_count": 7,
   "metadata": {},
   "outputs": [],
   "source": [
    "# Count the number of months\n",
    "count = 0\n",
    "\n",
    "account = account.split(\"Date\")\n",
    "\n",
    "new = []\n",
    "for line in account:\n",
    "    new.appennd(line.split('-')\n",
    "\n",
    "\n",
    "txt = open('file.csv');\n",
    "contents = txt.read()\n",
    "contents = contents.split('\\n');\n",
    "new = []\n",
    "for line in contents:\n",
    "        new.append(line.split(','));\n",
    "\n",
    "def searchGenre(contents, genreName):\n",
    "        count = 0;\n",
    "\n",
    "        for line in contents:\n",
    "                if genreName in line[genreColumnIndex]:\n",
    "                        count += 1;\n",
    "                        print(line);\n",
    "\n",
    "        print(count, \" movies of that genre.\")\n",
    "\n",
    "print(\"searching for horror\");\n",
    "searchGenre(contents, \"horror\");\n"
   ]
  },
  {
   "cell_type": "code",
   "execution_count": null,
   "metadata": {},
   "outputs": [],
   "source": [
    "print(lines)\n",
    "print(type(lines))"
   ]
  }
 ],
 "metadata": {
  "kernelspec": {
   "display_name": "Python 3",
   "language": "python",
   "name": "python3"
  },
  "language_info": {
   "codemirror_mode": {
    "name": "ipython",
    "version": 3
   },
   "file_extension": ".py",
   "mimetype": "text/x-python",
   "name": "python",
   "nbconvert_exporter": "python",
   "pygments_lexer": "ipython3",
   "version": "3.7.0"
  }
 },
 "nbformat": 4,
 "nbformat_minor": 2
}

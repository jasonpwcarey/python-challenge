{
 "cells": [
  {
   "cell_type": "code",
   "execution_count": 15,
   "metadata": {},
   "outputs": [
    {
     "ename": "SyntaxError",
     "evalue": "invalid syntax (<ipython-input-15-2e2443b44a84>, line 58)",
     "output_type": "error",
     "traceback": [
      "\u001b[1;36m  File \u001b[1;32m\"<ipython-input-15-2e2443b44a84>\"\u001b[1;36m, line \u001b[1;32m58\u001b[0m\n\u001b[1;33m    max_loss = (min_total - max_total)\u001b[0m\n\u001b[1;37m           ^\u001b[0m\n\u001b[1;31mSyntaxError\u001b[0m\u001b[1;31m:\u001b[0m invalid syntax\n"
     ]
    }
   ],
   "source": [
    "# First import os module\n",
    "import os\n",
    "\n",
    "import csv\n",
    "\n",
    "Months = []\n",
    "Total = []\n",
    "Count = 0\n",
    "prev_rev = 0\n",
    "rev_change = []\n",
    "\n",
    "csvbudget = os.path.join(\"Resources\",\"budget_data.csv\")\n",
    "\n",
    "with open(csvbudget, newline=\"\") as csvfile:\n",
    "    csvreader = csv.reader(csvfile, delimiter=\",\")\n",
    "    next(csvreader)\n",
    "    \n",
    "    for row in csvreader:\n",
    "        \n",
    "        Total.append(int(row[1]))\n",
    "        \n",
    "        budget = sum(Total)\n",
    "\n",
    "        Months.append(row[0])\n",
    "        \n",
    "        length = len(Months)\n",
    "        \n",
    "        \n",
    "        \n",
    "        rev_change = int(row[1]) - prev_rev\n",
    "        \n",
    "        prev_rev = int(row[1])\n",
    "        \n",
    "        \n",
    "        differences = []\n",
    "        \n",
    "        differences = (int(rev_change))\n",
    "        \n",
    "        \n",
    "        \n",
    "        \n",
    "        \n",
    "        max_rev = max(rev_change)\n",
    "            \n",
    "        print(max_rev)\n",
    "            \n",
    "        min_rev = min(rev_change)\n",
    "         \n",
    "        print(min_rev)\n",
    "            \n",
    "        max_total = max(rev_change)\n",
    "        \n",
    "        \n",
    "        min_total = min(rev_change)\n",
    "        \n",
    "        max_inc = (int(max_total) - int(min_total)\n",
    "        \n",
    "        max_loss = (min_total - max_total)\n",
    "    \n",
    "print(max_total)\n",
    "    \n",
    "print(min_total)\n",
    "\n",
    "print(max_inc)\n",
    "    \n",
    "print(max_loss)\n",
    "        \n",
    "        \n",
    "        def average (differences):\n",
    "            length = len(differences)\n",
    "            tot = 0.0\n",
    "        for number in differences:\n",
    "            tot += number\n",
    "        return tot / length\n",
    "            \n",
    "        print(average(differences))\n",
    "        \n",
    "        \n",
    "        diff.append(rev_change)\n",
    "        \n",
    "        diff_sum = (sum(diff) / 85)\n",
    "        \n",
    "        print(prev_rev)\n",
    "        \n",
    "    \n",
    "   \n",
    "  \n",
    "\n",
    "print(length)\n",
    "        \n",
    "print(budget) \n",
    "         "
   ]
  },
  {
   "cell_type": "code",
   "execution_count": 13,
   "metadata": {},
   "outputs": [],
   "source": [
    "#Find The average change in \"Profit/Losses\" between months over the entire period       "
   ]
  },
  {
   "cell_type": "code",
   "execution_count": 9,
   "metadata": {},
   "outputs": [],
   "source": [
    "#Greatest increase in profits\n",
    "\n",
    "\n"
   ]
  },
  {
   "cell_type": "code",
   "execution_count": null,
   "metadata": {},
   "outputs": [],
   "source": []
  },
  {
   "cell_type": "code",
   "execution_count": null,
   "metadata": {},
   "outputs": [],
   "source": []
  },
  {
   "cell_type": "code",
   "execution_count": null,
   "metadata": {},
   "outputs": [],
   "source": [
    "\n"
   ]
  },
  {
   "cell_type": "code",
   "execution_count": null,
   "metadata": {},
   "outputs": [],
   "source": []
  },
  {
   "cell_type": "code",
   "execution_count": null,
   "metadata": {},
   "outputs": [],
   "source": []
  },
  {
   "cell_type": "code",
   "execution_count": null,
   "metadata": {},
   "outputs": [],
   "source": []
  }
 ],
 "metadata": {
  "kernelspec": {
   "display_name": "Python 3",
   "language": "python",
   "name": "python3"
  },
  "language_info": {
   "codemirror_mode": {
    "name": "ipython",
    "version": 3
   },
   "file_extension": ".py",
   "mimetype": "text/x-python",
   "name": "python",
   "nbconvert_exporter": "python",
   "pygments_lexer": "ipython3",
   "version": "3.7.0"
  }
 },
 "nbformat": 4,
 "nbformat_minor": 2
}
